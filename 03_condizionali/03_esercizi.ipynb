{
 "cells": [
  {
   "cell_type": "markdown",
   "metadata": {},
   "source": [
    "# Altezza\n",
    "\n",
    "Viene chiesto di scrivere un programma che chieda all'utente di fornire la sua altezza in centimetri. Se l'altezza è maggiore o uguale a 180 il programma deve stampare la seguente dicitura: ``Sei una persona molto alta``.\n",
    "\n",
    "Tradurre il diagramma di flusso in un codice Python che risolva il problema.\n"
   ]
  },
  {
   "cell_type": "code",
   "execution_count": 6,
   "metadata": {},
   "outputs": [
    {
     "name": "stdout",
     "output_type": "stream",
     "text": [
      "Sei una persona molto alta.\n"
     ]
    }
   ],
   "source": [
    "altezza=int(input(\"Quanto dei alto in centimetri?\"))\n",
    "if altezza >= 180:\n",
    "    print(f\"Sei una persona molto alta.\")"
   ]
  },
  {
   "cell_type": "markdown",
   "metadata": {},
   "source": [
    "# Altezza 2\n",
    " Riprendere l'esercizio precedente ed aggiungere il codice che permetta al programma di scrivere ``Sei una persona di media altezza`` se l'altezza è inferiore a 180 cm.\n",
    "\n",
    " Tradurre il diagramma di flusso in un codice Python che risolva il problema."
   ]
  },
  {
   "cell_type": "code",
   "execution_count": 7,
   "metadata": {},
   "outputs": [
    {
     "name": "stdout",
     "output_type": "stream",
     "text": [
      "Sei una persona di media altezza.\n"
     ]
    }
   ],
   "source": [
    "altezza=int(input(\"Quanto dei alto in centimetri?\"))\n",
    "if altezza < 180:\n",
    "    print(f\"Sei una persona di media altezza.\")"
   ]
  },
  {
   "cell_type": "markdown",
   "metadata": {},
   "source": [
    "# Area rettangolo\n",
    "L'area di un rettangolo è uguale alla sua base per la sua altezza. Scrivere un programma che chieda la base e l'altezza di due rettangoli e successivamente indichi quale dei due rettangoli ha l'area maggiore."
   ]
  },
  {
   "cell_type": "code",
   "execution_count": 12,
   "metadata": {},
   "outputs": [
    {
     "name": "stdout",
     "output_type": "stream",
     "text": [
      "I due rettangoli hanno la stessa area.\n"
     ]
    }
   ],
   "source": [
    "base_1=float(input(\"Inserisci quanto misura la base in cm:\"))\n",
    "lato_1=float(input(\"Inserisci quanto misura il lato in cm:\"))\n",
    "area_1=base_1*lato_1\n",
    "\n",
    "base_2=float(input(\"Inserisci quanto misura la base in cm:\"))\n",
    "lato_2=float(input(\"Inserisci quanto misura il lato in cm:\"))\n",
    "area_2=base_2*lato_2\n",
    "\n",
    "if area_1 > area_2:\n",
    "    print(f\"Il rettangolo 1 ha l'area maggiore.\")\n",
    "if area_2 > area_1:\n",
    "    print(f\"Il rettangolo 2 ha l'area maggiore.\")\n",
    "if area_1 == area_2:\n",
    "    print(f\"I due rettangoli hanno la stessa area.\")"
   ]
  },
  {
   "cell_type": "markdown",
   "metadata": {},
   "source": [
    "# Pari e dispari\n",
    "Scrivere un programma che chieda all'utente di indicare un numero intero. Se il numero è pari, il programma deve visualizzare: ``Il tuo numero è pari`` , se invece il numero è dispari deve visualizzare: ``Il tuo numero è dispari``."
   ]
  },
  {
   "cell_type": "code",
   "execution_count": 18,
   "metadata": {},
   "outputs": [
    {
     "name": "stdout",
     "output_type": "stream",
     "text": [
      "Il tuo numero è dispari.\n"
     ]
    }
   ],
   "source": [
    "n=int(input(\"Inserisci un numero intero:\"))\n",
    "\n",
    "if n%2 == 0:\n",
    "    print(f\"Il tuo numero è pari.\")\n",
    "else:\n",
    "    print(f\"Il tuo numero è dispari.\")"
   ]
  },
  {
   "cell_type": "markdown",
   "metadata": {},
   "source": [
    "# Password\n",
    " Scrivere un programma che chieda all'utente di inserire una password a proprio piacimento. Se la password è composta da almeno 8 caratteri il programma deve visualizzare: ``La password è stata accettata`` , altrimenti ``La password inserita è troppo corta``"
   ]
  },
  {
   "cell_type": "code",
   "execution_count": 20,
   "metadata": {},
   "outputs": [
    {
     "name": "stdout",
     "output_type": "stream",
     "text": [
      "La password inserita è troppo corta\n"
     ]
    }
   ],
   "source": [
    "password=str(input(\"Inserisci una password:\"))\n",
    "n_password=len(password)\n",
    "\n",
    "if n_password >= 8:\n",
    "    print(f\"La password è stata accettata.\")\n",
    "else:\n",
    "    print(f\"La password inserita è troppo corta.\")"
   ]
  },
  {
   "cell_type": "markdown",
   "metadata": {},
   "source": [
    "# Assegnazioni\n",
    "\n",
    "Scrivere una istruzione ``if`` che assegni 0 alla variabile ``b`` e assegni 1 alla variabile ``c``  se la variabile ``a`` è minore di 10."
   ]
  },
  {
   "cell_type": "code",
   "execution_count": 26,
   "metadata": {},
   "outputs": [],
   "source": [
    "a=int(input(\"Inserisci un numero per la variabile a:\"))\n",
    "\n",
    "\n",
    "if a < 10:\n",
    "    c=1\n",
    "    b=0\n",
    "    print(f\"C ha come variabile {c} e B ha come variabile {b}.\")"
   ]
  },
  {
   "cell_type": "markdown",
   "metadata": {},
   "source": [
    "# Assegnazioni 2\n",
    "Scrivere una istruzione ``if-else `` che assegni 0 alla variabile ``b`` se la variabile ``a`` è minore di 10. In caso contrario, l'istruzione deve assegnare 99 alla variabile ``b``."
   ]
  },
  {
   "cell_type": "code",
   "execution_count": 31,
   "metadata": {},
   "outputs": [
    {
     "name": "stdout",
     "output_type": "stream",
     "text": [
      "B ha come variabile 99\n"
     ]
    }
   ],
   "source": [
    "a=int(input(\"Inserisci un numero per la variabile a:\"))\n",
    "\n",
    "if a < 10:\n",
    "    b=0\n",
    "    print(f\"B ha come variabile {b}\")\n",
    "else:\n",
    "    b=99\n",
    "    print(f\"B ha come variabile {b}\")"
   ]
  }
 ],
 "metadata": {
  "kernelspec": {
   "display_name": "Python 3",
   "language": "python",
   "name": "python3"
  },
  "language_info": {
   "codemirror_mode": {
    "name": "ipython",
    "version": 3
   },
   "file_extension": ".py",
   "mimetype": "text/x-python",
   "name": "python",
   "nbconvert_exporter": "python",
   "pygments_lexer": "ipython3",
   "version": "3.10.13"
  }
 },
 "nbformat": 4,
 "nbformat_minor": 2
}
