{
 "cells": [
  {
   "cell_type": "markdown",
   "metadata": {},
   "source": [
    "# Paga lorda\n",
    "Scrivere un programma che calcoli e visualizzi la paga lorda di un dipendente a ore. I\n",
    "passaggi da seguire sono i seguenti:\n",
    "1. Ottenere il numero di ore lavorative;\n",
    "2. ottenere retribuzione oraria;\n",
    "3. moltiplicare il numero di ore lavorate per la retribuzione oraria;\n",
    "4. visualizzare il risultato del calcolo eseguito al passaggio 3."
   ]
  },
  {
   "cell_type": "code",
   "execution_count": 20,
   "metadata": {},
   "outputs": [
    {
     "name": "stdout",
     "output_type": "stream",
     "text": [
      "Ore di lavoro: 8.0\n",
      "Retribuzione:30.0\n",
      "La tua retribuzione oraria è: 240.0 Fr.-\n"
     ]
    }
   ],
   "source": [
    "ore_lavoro=float(input(\"Inserisci le tue ore lavorative:\"))\n",
    "retribuzione=float(input(\"Inserisci la tua retribuzione oraria:\"))\n",
    "print(f\"Ore di lavoro: {ore_lavoro}\")\n",
    "print(f\"Retribuzione:{retribuzione}\")\n",
    "paga=ore_lavoro*retribuzione\n",
    "print(f\"La tua retribuzione oraria è: {paga} Fr.-\" )\n",
    "\n"
   ]
  },
  {
   "cell_type": "markdown",
   "metadata": {},
   "source": [
    "# Calcolo della superficie\n",
    "Un acro di terra corrisponde a circa 4046 metri quadrati. Scrivere un programma che chieda\n",
    "all’utente di inserire la superficie di un terreno in metri quadrati e calcoli quindi il numero\n",
    "di acri di quel terreno."
   ]
  },
  {
   "cell_type": "code",
   "execution_count": 22,
   "metadata": {},
   "outputs": [
    {
     "name": "stdout",
     "output_type": "stream",
     "text": [
      "La superficie corrisponde a 244.05956500247157 acri.\n"
     ]
    }
   ],
   "source": [
    "metri_quadrati=float(input(\"Inserire la superficie in metri quadrati:\"))\n",
    "\n",
    "acri=metri_quadrati/4046\n",
    "print(f\"La superficie corrisponde a {acri} acri.\")"
   ]
  },
  {
   "cell_type": "markdown",
   "metadata": {},
   "source": []
  },
  {
   "cell_type": "markdown",
   "metadata": {},
   "source": [
    "# Previsioni delle vendite \n",
    "Un’azienda ha determinato che il suo profitto annuale è tipicamente il 23% del totale delle\n",
    "vendite. \n",
    "Scrivere un programma che chieda all’utente di inserire il totale delle vendite previste e visualizzi quindi il profitto che si terrà da questa somma.\n",
    "\n",
    "*Suggerimento: non esiste il tipo di dato 23%. È necessario utilizzare gli operatori di\n",
    "moltiplicazione e divisione per ottenere la percentuale sul totale delle vendite.*\n"
   ]
  },
  {
   "cell_type": "code",
   "execution_count": 24,
   "metadata": {},
   "outputs": [
    {
     "name": "stdout",
     "output_type": "stream",
     "text": [
      "Totale delle vendite: 100.0\n",
      "Il profitto annuale è di 23.0 franchi.\n"
     ]
    }
   ],
   "source": [
    "vendite=float(input(\"Inserire il totale delle vendite annuali:\"))\n",
    "print(f\"Totale delle vendite: {vendite}\")\n",
    "profitto_annuale=(vendite/100)*23\n",
    "print(f\"Il profitto annuale è di {profitto_annuale} franchi.\")"
   ]
  },
  {
   "cell_type": "markdown",
   "metadata": {},
   "source": []
  },
  {
   "cell_type": "markdown",
   "metadata": {},
   "source": [
    "# IVA \n",
    "Scrivere un programma che chieda all’utente di inserire il costo totale di un acquisto al netto\n",
    "di Iva. \n",
    "\n",
    "Si supponga che l’IVA sia pari all’8%. \n",
    "\n",
    "Il programma deve visualizzare il costo totale\n",
    "dell’acquisto al netto di IVA, l’IVA e il costo totale dell’acquisto (quindi IVA compresa)."
   ]
  },
  {
   "cell_type": "code",
   "execution_count": 25,
   "metadata": {},
   "outputs": [
    {
     "name": "stdout",
     "output_type": "stream",
     "text": [
      "Costo del prodotto al netto di IVA: 150.0\n"
     ]
    }
   ],
   "source": [
    "costo=float(input(\"Inserire il costo dell'acquisto\"))\n",
    "print(f\"Costo del prodotto al netto di IVA: {costo}\")\n",
    "\n"
   ]
  },
  {
   "cell_type": "code",
   "execution_count": null,
   "metadata": {},
   "outputs": [],
   "source": [
    "biscotti_desiderati=int(input(\"Inserire il numero di biscotti desiderati:\"))\n"
   ]
  }
 ],
 "metadata": {
  "kernelspec": {
   "display_name": "work",
   "language": "python",
   "name": "python3"
  },
  "language_info": {
   "codemirror_mode": {
    "name": "ipython",
    "version": 3
   },
   "file_extension": ".py",
   "mimetype": "text/x-python",
   "name": "python",
   "nbconvert_exporter": "python",
   "pygments_lexer": "ipython3",
   "version": "3.10.13"
  }
 },
 "nbformat": 4,
 "nbformat_minor": 2
}
